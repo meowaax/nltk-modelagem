{
 "cells": [
  {
   "cell_type": "markdown",
   "id": "8a8bdffc",
   "metadata": {},
   "source": [
    "## Importando Dataframe de Notícias"
   ]
  },
  {
   "cell_type": "markdown",
   "id": "528f452e",
   "metadata": {},
   "source": [
    "##### Alex"
   ]
  },
  {
   "cell_type": "code",
   "execution_count": 64,
   "id": "3c019e18",
   "metadata": {},
   "outputs": [],
   "source": [
    "import pandas as pd"
   ]
  },
  {
   "cell_type": "code",
   "execution_count": 65,
   "id": "ac1869a5",
   "metadata": {},
   "outputs": [],
   "source": [
    "df = pd.read_csv('fakenews1.csv', sep=',')"
   ]
  },
  {
   "cell_type": "code",
   "execution_count": 66,
   "id": "ec6d8e7a",
   "metadata": {},
   "outputs": [],
   "source": [
    "df2 = pd.read_csv('fakenews2.csv', sep=',')"
   ]
  },
  {
   "cell_type": "code",
   "execution_count": 67,
   "id": "48240dfc",
   "metadata": {},
   "outputs": [],
   "source": [
    "df_filter = df[['title', 'real']]"
   ]
  },
  {
   "cell_type": "code",
   "execution_count": 68,
   "id": "904ffc22",
   "metadata": {},
   "outputs": [],
   "source": [
    "df2 = df2.dropna().reset_index()\n",
    "df2 = df2.rename(columns={'label': 'real'})\n"
   ]
  },
  {
   "cell_type": "code",
   "execution_count": 69,
   "id": "3ff2ea59",
   "metadata": {},
   "outputs": [],
   "source": [
    "df2_filter = df2[['title', 'real']]\n"
   ]
  },
  {
   "cell_type": "code",
   "execution_count": 70,
   "id": "b7eb524f",
   "metadata": {},
   "outputs": [
    {
     "data": {
      "text/html": [
       "<div>\n",
       "<style scoped>\n",
       "    .dataframe tbody tr th:only-of-type {\n",
       "        vertical-align: middle;\n",
       "    }\n",
       "\n",
       "    .dataframe tbody tr th {\n",
       "        vertical-align: top;\n",
       "    }\n",
       "\n",
       "    .dataframe thead th {\n",
       "        text-align: right;\n",
       "    }\n",
       "</style>\n",
       "<table border=\"1\" class=\"dataframe\">\n",
       "  <thead>\n",
       "    <tr style=\"text-align: right;\">\n",
       "      <th></th>\n",
       "      <th>title</th>\n",
       "      <th>real</th>\n",
       "    </tr>\n",
       "  </thead>\n",
       "  <tbody>\n",
       "    <tr>\n",
       "      <th>0</th>\n",
       "      <td>LAW ENFORCEMENT ON HIGH ALERT Following Threat...</td>\n",
       "      <td>1</td>\n",
       "    </tr>\n",
       "    <tr>\n",
       "      <th>1</th>\n",
       "      <td>UNBELIEVABLE! OBAMA’S ATTORNEY GENERAL SAYS MO...</td>\n",
       "      <td>1</td>\n",
       "    </tr>\n",
       "    <tr>\n",
       "      <th>2</th>\n",
       "      <td>Bobby Jindal, raised Hindu, uses story of Chri...</td>\n",
       "      <td>0</td>\n",
       "    </tr>\n",
       "    <tr>\n",
       "      <th>3</th>\n",
       "      <td>SATAN 2: Russia unvelis an image of its terrif...</td>\n",
       "      <td>1</td>\n",
       "    </tr>\n",
       "    <tr>\n",
       "      <th>4</th>\n",
       "      <td>About Time! Christian Group Sues Amazon and SP...</td>\n",
       "      <td>1</td>\n",
       "    </tr>\n",
       "    <tr>\n",
       "      <th>...</th>\n",
       "      <td>...</td>\n",
       "      <td>...</td>\n",
       "    </tr>\n",
       "    <tr>\n",
       "      <th>71532</th>\n",
       "      <td>Russians steal research on Trump in hack of U....</td>\n",
       "      <td>0</td>\n",
       "    </tr>\n",
       "    <tr>\n",
       "      <th>71533</th>\n",
       "      <td>WATCH: Giuliani Demands That Democrats Apolog...</td>\n",
       "      <td>1</td>\n",
       "    </tr>\n",
       "    <tr>\n",
       "      <th>71534</th>\n",
       "      <td>Migrants Refuse To Leave Train At Refugee Camp...</td>\n",
       "      <td>0</td>\n",
       "    </tr>\n",
       "    <tr>\n",
       "      <th>71535</th>\n",
       "      <td>Trump tussle gives unpopular Mexican leader mu...</td>\n",
       "      <td>0</td>\n",
       "    </tr>\n",
       "    <tr>\n",
       "      <th>71536</th>\n",
       "      <td>Goldman Sachs Endorses Hillary Clinton For Pre...</td>\n",
       "      <td>1</td>\n",
       "    </tr>\n",
       "  </tbody>\n",
       "</table>\n",
       "<p>71537 rows × 2 columns</p>\n",
       "</div>"
      ],
      "text/plain": [
       "                                                   title  real\n",
       "0      LAW ENFORCEMENT ON HIGH ALERT Following Threat...     1\n",
       "1      UNBELIEVABLE! OBAMA’S ATTORNEY GENERAL SAYS MO...     1\n",
       "2      Bobby Jindal, raised Hindu, uses story of Chri...     0\n",
       "3      SATAN 2: Russia unvelis an image of its terrif...     1\n",
       "4      About Time! Christian Group Sues Amazon and SP...     1\n",
       "...                                                  ...   ...\n",
       "71532  Russians steal research on Trump in hack of U....     0\n",
       "71533   WATCH: Giuliani Demands That Democrats Apolog...     1\n",
       "71534  Migrants Refuse To Leave Train At Refugee Camp...     0\n",
       "71535  Trump tussle gives unpopular Mexican leader mu...     0\n",
       "71536  Goldman Sachs Endorses Hillary Clinton For Pre...     1\n",
       "\n",
       "[71537 rows x 2 columns]"
      ]
     },
     "execution_count": 70,
     "metadata": {},
     "output_type": "execute_result"
    }
   ],
   "source": [
    "df2_filter"
   ]
  },
  {
   "cell_type": "markdown",
   "id": "e5865ecc",
   "metadata": {},
   "source": [
    "### Juntando os DataFrames"
   ]
  },
  {
   "cell_type": "code",
   "execution_count": 71,
   "id": "816a47fa",
   "metadata": {},
   "outputs": [],
   "source": [
    "noticias = pd.concat([df_filter, df2_filter], axis=0)"
   ]
  },
  {
   "cell_type": "code",
   "execution_count": 72,
   "id": "7bd9f0d1",
   "metadata": {},
   "outputs": [
    {
     "data": {
      "text/html": [
       "<div>\n",
       "<style scoped>\n",
       "    .dataframe tbody tr th:only-of-type {\n",
       "        vertical-align: middle;\n",
       "    }\n",
       "\n",
       "    .dataframe tbody tr th {\n",
       "        vertical-align: top;\n",
       "    }\n",
       "\n",
       "    .dataframe thead th {\n",
       "        text-align: right;\n",
       "    }\n",
       "</style>\n",
       "<table border=\"1\" class=\"dataframe\">\n",
       "  <thead>\n",
       "    <tr style=\"text-align: right;\">\n",
       "      <th></th>\n",
       "      <th>title</th>\n",
       "      <th>real</th>\n",
       "    </tr>\n",
       "  </thead>\n",
       "  <tbody>\n",
       "    <tr>\n",
       "      <th>0</th>\n",
       "      <td>Kandi Burruss Explodes Over Rape Accusation on...</td>\n",
       "      <td>1</td>\n",
       "    </tr>\n",
       "    <tr>\n",
       "      <th>1</th>\n",
       "      <td>People's Choice Awards 2018: The best red carp...</td>\n",
       "      <td>1</td>\n",
       "    </tr>\n",
       "    <tr>\n",
       "      <th>2</th>\n",
       "      <td>Sophia Bush Sends Sweet Birthday Message to 'O...</td>\n",
       "      <td>1</td>\n",
       "    </tr>\n",
       "    <tr>\n",
       "      <th>3</th>\n",
       "      <td>Colombian singer Maluma sparks rumours of inap...</td>\n",
       "      <td>1</td>\n",
       "    </tr>\n",
       "    <tr>\n",
       "      <th>4</th>\n",
       "      <td>Gossip Girl 10 Years Later: How Upper East Sid...</td>\n",
       "      <td>1</td>\n",
       "    </tr>\n",
       "    <tr>\n",
       "      <th>...</th>\n",
       "      <td>...</td>\n",
       "      <td>...</td>\n",
       "    </tr>\n",
       "    <tr>\n",
       "      <th>71532</th>\n",
       "      <td>Russians steal research on Trump in hack of U....</td>\n",
       "      <td>0</td>\n",
       "    </tr>\n",
       "    <tr>\n",
       "      <th>71533</th>\n",
       "      <td>WATCH: Giuliani Demands That Democrats Apolog...</td>\n",
       "      <td>1</td>\n",
       "    </tr>\n",
       "    <tr>\n",
       "      <th>71534</th>\n",
       "      <td>Migrants Refuse To Leave Train At Refugee Camp...</td>\n",
       "      <td>0</td>\n",
       "    </tr>\n",
       "    <tr>\n",
       "      <th>71535</th>\n",
       "      <td>Trump tussle gives unpopular Mexican leader mu...</td>\n",
       "      <td>0</td>\n",
       "    </tr>\n",
       "    <tr>\n",
       "      <th>71536</th>\n",
       "      <td>Goldman Sachs Endorses Hillary Clinton For Pre...</td>\n",
       "      <td>1</td>\n",
       "    </tr>\n",
       "  </tbody>\n",
       "</table>\n",
       "<p>94733 rows × 2 columns</p>\n",
       "</div>"
      ],
      "text/plain": [
       "                                                   title  real\n",
       "0      Kandi Burruss Explodes Over Rape Accusation on...     1\n",
       "1      People's Choice Awards 2018: The best red carp...     1\n",
       "2      Sophia Bush Sends Sweet Birthday Message to 'O...     1\n",
       "3      Colombian singer Maluma sparks rumours of inap...     1\n",
       "4      Gossip Girl 10 Years Later: How Upper East Sid...     1\n",
       "...                                                  ...   ...\n",
       "71532  Russians steal research on Trump in hack of U....     0\n",
       "71533   WATCH: Giuliani Demands That Democrats Apolog...     1\n",
       "71534  Migrants Refuse To Leave Train At Refugee Camp...     0\n",
       "71535  Trump tussle gives unpopular Mexican leader mu...     0\n",
       "71536  Goldman Sachs Endorses Hillary Clinton For Pre...     1\n",
       "\n",
       "[94733 rows x 2 columns]"
      ]
     },
     "execution_count": 72,
     "metadata": {},
     "output_type": "execute_result"
    }
   ],
   "source": [
    "noticias"
   ]
  },
  {
   "cell_type": "code",
   "execution_count": 73,
   "id": "40cd9cd9",
   "metadata": {},
   "outputs": [],
   "source": [
    "noticias.to_csv('noticias.csv', sep=';')"
   ]
  },
  {
   "cell_type": "markdown",
   "id": "cff342b9",
   "metadata": {},
   "source": [
    "### Processamento com NLTK"
   ]
  },
  {
   "cell_type": "code",
   "execution_count": 74,
   "id": "d9cb6a1b",
   "metadata": {},
   "outputs": [],
   "source": [
    "import re, string, nltk\n",
    "from nltk.corpus import stopwords\n",
    "from nltk.stem import PorterStemmer\n",
    "from nltk.tokenize import TreebankWordTokenizer\n",
    "\n",
    "#nltk.download('stopwords')\n",
    "\n",
    "stop_words = set(stopwords.words('english'))\n",
    "stemmer = PorterStemmer()\n",
    "tb = TreebankWordTokenizer()\n",
    "\n",
    "def preprocess(text):\n",
    "    if not isinstance(text, str):\n",
    "        text = '' if text is None else str(text)\n",
    "\n",
    "    text = text.lower()\n",
    "    text = re.sub(r'http\\S+|www\\.\\S+', ' ', text)   # URLs\n",
    "    text = re.sub(r'<.*?>', ' ', text)              # HTML\n",
    "    tokens = tb.tokenize(text)\n",
    "\n",
    "    # limpa tokens: tira pontuação e stopwords, mantém só letras com len>2\n",
    "    tokens = [t for t in tokens if t.isalpha()]\n",
    "    tokens = [t for t in tokens if t not in stop_words and len(t) > 2]\n",
    "\n",
    "    # stemming\n",
    "    tokens = [stemmer.stem(t) for t in tokens]\n",
    "    return tokens\n"
   ]
  },
  {
   "cell_type": "code",
   "execution_count": 75,
   "id": "15fd0482",
   "metadata": {},
   "outputs": [
    {
     "name": "stdout",
     "output_type": "stream",
     "text": [
      "['break', 'news', 'shock', 'claim', 'true']\n"
     ]
    }
   ],
   "source": [
    "print(preprocess(\"Breaking News: This shocking claim is 100% true!!!\"))\n"
   ]
  },
  {
   "cell_type": "code",
   "execution_count": 76,
   "id": "50b4f2e4",
   "metadata": {},
   "outputs": [],
   "source": [
    "def tokens_to_features(tokens):\n",
    "    return {word: True for word in tokens}"
   ]
  },
  {
   "cell_type": "code",
   "execution_count": 77,
   "id": "c0978da7",
   "metadata": {},
   "outputs": [],
   "source": [
    "dataset = [(tokens_to_features(preprocess(text)), label) \n",
    "           for text, label in zip(noticias['title'], df['real'])]"
   ]
  },
  {
   "cell_type": "markdown",
   "id": "f89e00a7",
   "metadata": {},
   "source": [
    "## Modelo de classificação usando NLTK"
   ]
  },
  {
   "cell_type": "code",
   "execution_count": 78,
   "id": "e156fb9e",
   "metadata": {},
   "outputs": [],
   "source": [
    "from sklearn.model_selection import train_test_split\n",
    "\n",
    "train_set, test_set = train_test_split(dataset, test_size=0.3, random_state=42)\n"
   ]
  },
  {
   "cell_type": "code",
   "execution_count": null,
   "id": "3977c27d",
   "metadata": {},
   "outputs": [
    {
     "name": "stdout",
     "output_type": "stream",
     "text": [
      "Acurácia: 0.7932174162954447\n",
      "Most Informative Features\n",
      "                    neri = True                0 : 1      =     36.9 : 1.0\n",
      "                   oxman = True                0 : 1      =     32.9 : 1.0\n",
      "                 caitlyn = True                0 : 1      =     28.2 : 1.0\n",
      "                    pitt = True                0 : 1      =     27.0 : 1.0\n",
      "                  debunk = True                0 : 1      =     25.7 : 1.0\n",
      "                    brad = True                0 : 1      =     23.5 : 1.0\n",
      "              scientolog = True                0 : 1      =     21.0 : 1.0\n",
      "                    foxx = True                0 : 1      =     18.8 : 1.0\n",
      "                    dump = True                0 : 1      =     18.3 : 1.0\n",
      "                     beg = True                0 : 1      =     18.2 : 1.0\n"
     ]
    }
   ],
   "source": [
    "from nltk.classify import NaiveBayesClassifier\n",
    "from nltk.classify.util import accuracy\n",
    "\n",
    "classifier = NaiveBayesClassifier.train(train_set)\n",
    "\n",
    "print(\"Acurácia:\", accuracy(classifier, test_set))\n",
    "classifier.show_most_informative_features(10)\n"
   ]
  },
  {
   "cell_type": "code",
   "execution_count": 80,
   "id": "5a1ebc7d",
   "metadata": {},
   "outputs": [
    {
     "name": "stdout",
     "output_type": "stream",
     "text": [
      "Classificação: 0\n"
     ]
    }
   ],
   "source": [
    "exemplo = \"Breaking news: Scientists found proof that aliens built the pyramids!\"\n",
    "tokens = preprocess(exemplo)\n",
    "features = tokens_to_features(tokens)\n",
    "print(\"Classificação:\", classifier.classify(features))\n"
   ]
  },
  {
   "cell_type": "markdown",
   "id": "b28e8af5",
   "metadata": {},
   "source": [
    "## Modelo de classificação com regressão"
   ]
  },
  {
   "cell_type": "markdown",
   "id": "177e74f8",
   "metadata": {},
   "source": [
    "##### Arthur"
   ]
  }
 ],
 "metadata": {
  "kernelspec": {
   "display_name": "Python 3",
   "language": "python",
   "name": "python3"
  },
  "language_info": {
   "codemirror_mode": {
    "name": "ipython",
    "version": 3
   },
   "file_extension": ".py",
   "mimetype": "text/x-python",
   "name": "python",
   "nbconvert_exporter": "python",
   "pygments_lexer": "ipython3",
   "version": "3.12.0"
  }
 },
 "nbformat": 4,
 "nbformat_minor": 5
}
